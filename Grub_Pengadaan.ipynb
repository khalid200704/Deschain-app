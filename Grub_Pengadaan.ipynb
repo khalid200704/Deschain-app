{
  "nbformat": 4,
  "nbformat_minor": 0,
  "metadata": {
    "colab": {
      "provenance": []
    },
    "kernelspec": {
      "name": "python3",
      "display_name": "Python 3"
    },
    "language_info": {
      "name": "python"
    }
  },
  "cells": [
    {
      "cell_type": "code",
      "source": [
        "# --- Load dataset ---\n",
        "needs = pd.read_csv('/content/needs_dummy.csv')\n",
        "vendors = pd.read_csv('/content/vendors_dummy.csv')"
      ],
      "metadata": {
        "id": "u7SAU6bzbEaw"
      },
      "execution_count": 3,
      "outputs": []
    },
    {
      "cell_type": "code",
      "source": [
        "print(needs)"
      ],
      "metadata": {
        "colab": {
          "base_uri": "https://localhost:8080/"
        },
        "id": "mlayW3r9bKaB",
        "outputId": "65505f59-aa2d-4847-f3fe-d33880008680"
      },
      "execution_count": 6,
      "outputs": [
        {
          "output_type": "stream",
          "name": "stdout",
          "text": [
            "      userId     namaBarang  jumlah satuan  waktuButuh    lokasi  \\\n",
            "0    UMKM001          Beras      25     kg  2025-08-02   Jakarta   \n",
            "1    UMKM002  Botol Plastik      50    pcs  2025-08-03   Bandung   \n",
            "2    UMKM003  Minyak Goreng      30  liter  2025-08-04  Surabaya   \n",
            "3    UMKM004     Gula Pasir      20     kg  2025-08-05  Semarang   \n",
            "4    UMKM005         Karton      40   pack  2025-08-06     Medan   \n",
            "..       ...            ...     ...    ...         ...       ...   \n",
            "195  UMKM196  Tepung Terigu     200     kg  2026-02-13   Jakarta   \n",
            "196  UMKM197     Kopi Bubuk     198     kg  2026-02-14   Bandung   \n",
            "197  UMKM198  Gelas Plastik     270    pcs  2026-02-15  Surabaya   \n",
            "198  UMKM199     Sabun Cair     210  liter  2026-02-16  Semarang   \n",
            "199  UMKM200           Tisu     208   pack  2026-02-17     Medan   \n",
            "\n",
            "            spesifikasi  \n",
            "0      Kualitas premium  \n",
            "1                   NaN  \n",
            "2    Kemasan food grade  \n",
            "3                   NaN  \n",
            "4        Tanpa pengawet  \n",
            "..                  ...  \n",
            "195                 NaN  \n",
            "196      Tanpa pengawet  \n",
            "197                 NaN  \n",
            "198    Kualitas premium  \n",
            "199                 NaN  \n",
            "\n",
            "[200 rows x 7 columns]\n"
          ]
        }
      ]
    },
    {
      "cell_type": "code",
      "source": [
        "print(vendors)"
      ],
      "metadata": {
        "colab": {
          "base_uri": "https://localhost:8080/"
        },
        "id": "Elj8U2D-bbdK",
        "outputId": "02d87388-a820-4490-d6f2-211cfd8eaf52"
      },
      "execution_count": 7,
      "outputs": [
        {
          "output_type": "stream",
          "name": "stdout",
          "text": [
            "  vendorId           namaVendor     namaBarang  hargaDasar  MOQ  kapasitas  \\\n",
            "0     V001        PT Beras Jaya          Beras       12000  100       2000   \n",
            "1     V002    PT Plastik Makmur  Botol Plastik         200  500      10000   \n",
            "2     V003  PT Minyak Sejahtera  Minyak Goreng       16000   50       1000   \n",
            "3     V004    PT Gula Nusantara     Gula Pasir       13500   80       1500   \n",
            "4     V005        PT Karton Box         Karton        4000   30        500   \n",
            "5     V006      PT Terigu Prima  Tepung Terigu       10500   60       1200   \n",
            "6     V007    PT Kopi Nusantara     Kopi Bubuk       90000   10        500   \n",
            "7     V008     PT Plastik Gelas  Gelas Plastik         175  400       8000   \n",
            "8     V009      PT Sabun Bersih     Sabun Cair       25000   20        700   \n",
            "9     V010       PT Tisu Lembut           Tisu        9000   25       1000   \n",
            "\n",
            "                                          diskonTier lokasiVendor  \n",
            "0  [{\"min\":100, \"disc\":0.00}, {\"min\":500, \"disc\":...      Jakarta  \n",
            "1  [{\"min\":500, \"disc\":0.00}, {\"min\":2000, \"disc\"...      Bandung  \n",
            "2  [{\"min\":50, \"disc\":0.00}, {\"min\":300, \"disc\":0...     Surabaya  \n",
            "3  [{\"min\":80, \"disc\":0.00}, {\"min\":400, \"disc\":0...     Semarang  \n",
            "4  [{\"min\":30, \"disc\":0.00}, {\"min\":150, \"disc\":0...        Medan  \n",
            "5  [{\"min\":60, \"disc\":0.00}, {\"min\":300, \"disc\":0...      Jakarta  \n",
            "6  [{\"min\":10, \"disc\":0.00}, {\"min\":50, \"disc\":0....      Bandung  \n",
            "7  [{\"min\":400, \"disc\":0.00}, {\"min\":2000, \"disc\"...     Surabaya  \n",
            "8  [{\"min\":20, \"disc\":0.00}, {\"min\":100, \"disc\":0...     Semarang  \n",
            "9  [{\"min\":25, \"disc\":0.00}, {\"min\":120, \"disc\":0...        Medan  \n"
          ]
        }
      ]
    },
    {
      "cell_type": "code",
      "execution_count": 2,
      "metadata": {
        "colab": {
          "base_uri": "https://localhost:8080/"
        },
        "id": "tLHoMu0YZ7fu",
        "outputId": "a69a664f-7d92-4666-b6fc-21d3163de2fc"
      },
      "outputs": [
        {
          "output_type": "stream",
          "name": "stdout",
          "text": [
            "Total biaya minimum: 132710474.75\n",
            "Batch/group optimal:\n",
            "{'barang': 'Beras', 'lokasi': 'Jakarta', 'vendorId': 'V001', 'diskonTier': {'min': 1000, 'disc': 0.1}, 'total_jumlah': np.int64(1105), 'deadline_tercepat': '2025-08-02', 'deadline_terlama': '2025-11-30', 'anggota': ['UMKM001', 'UMKM011', 'UMKM021', 'UMKM031', 'UMKM041', 'UMKM051', 'UMKM061', 'UMKM071', 'UMKM081', 'UMKM091', 'UMKM101', 'UMKM111', 'UMKM121']}\n",
            "{'barang': 'Beras', 'lokasi': 'Jakarta', 'vendorId': 'V001', 'diskonTier': {'min': 1000, 'disc': 0.1}, 'total_jumlah': np.int64(1295), 'deadline_tercepat': '2025-12-10', 'deadline_terlama': '2026-02-08', 'anggota': ['UMKM131', 'UMKM141', 'UMKM151', 'UMKM161', 'UMKM171', 'UMKM181', 'UMKM191']}\n",
            "{'barang': 'Botol Plastik', 'lokasi': 'Bandung', 'vendorId': 'V002', 'diskonTier': {'min': 2000, 'disc': 0.07}, 'total_jumlah': np.int64(2210), 'deadline_tercepat': '2025-08-03', 'deadline_terlama': '2026-01-10', 'anggota': ['UMKM002', 'UMKM012', 'UMKM022', 'UMKM032', 'UMKM042', 'UMKM052', 'UMKM062', 'UMKM072', 'UMKM082', 'UMKM092', 'UMKM102', 'UMKM112', 'UMKM122', 'UMKM132', 'UMKM142', 'UMKM152', 'UMKM162']}\n",
            "{'barang': 'Botol Plastik', 'lokasi': 'Bandung', 'vendorId': 'V002', 'diskonTier': {'min': 5000, 'disc': 0.15}, 'total_jumlah': np.int64(9870), 'deadline_tercepat': '2025-08-04', 'deadline_terlama': '2026-02-12', 'anggota': ['UMKM172', 'UMKM182', 'UMKM192', 'UMKM003', 'UMKM013', 'UMKM023', 'UMKM033', 'UMKM043', 'UMKM053', 'UMKM063', 'UMKM073', 'UMKM083', 'UMKM093', 'UMKM103', 'UMKM113', 'UMKM123', 'UMKM133', 'UMKM143', 'UMKM153', 'UMKM163', 'UMKM173', 'UMKM183', 'UMKM193', 'UMKM004', 'UMKM014', 'UMKM024', 'UMKM034', 'UMKM044', 'UMKM054', 'UMKM064', 'UMKM074', 'UMKM084', 'UMKM094', 'UMKM104', 'UMKM114', 'UMKM124', 'UMKM134', 'UMKM144', 'UMKM154', 'UMKM164', 'UMKM174', 'UMKM184', 'UMKM194', 'UMKM005', 'UMKM015', 'UMKM025', 'UMKM035', 'UMKM045', 'UMKM055', 'UMKM065', 'UMKM075', 'UMKM085', 'UMKM095', 'UMKM105', 'UMKM115', 'UMKM125', 'UMKM135', 'UMKM145', 'UMKM155', 'UMKM165', 'UMKM175', 'UMKM185', 'UMKM195', 'UMKM006', 'UMKM016', 'UMKM026', 'UMKM036', 'UMKM046', 'UMKM056', 'UMKM066', 'UMKM076', 'UMKM086', 'UMKM096', 'UMKM106', 'UMKM116', 'UMKM126', 'UMKM136', 'UMKM146', 'UMKM156', 'UMKM166', 'UMKM176', 'UMKM186']}\n",
            "{'barang': 'Tepung Terigu', 'lokasi': 'Jakarta', 'vendorId': 'V006', 'diskonTier': {'min': 700, 'disc': 0.1}, 'total_jumlah': np.int64(1091), 'deadline_tercepat': '2025-08-08', 'deadline_terlama': '2026-02-13', 'anggota': ['UMKM196', 'UMKM007', 'UMKM017', 'UMKM027', 'UMKM037', 'UMKM047', 'UMKM057', 'UMKM067', 'UMKM077', 'UMKM087', 'UMKM097', 'UMKM107', 'UMKM117', 'UMKM127']}\n",
            "{'barang': 'Kopi Bubuk', 'lokasi': 'Bandung', 'vendorId': 'V007', 'diskonTier': {'min': 120, 'disc': 0.12}, 'total_jumlah': np.int64(444), 'deadline_tercepat': '2025-12-16', 'deadline_terlama': '2026-01-05', 'anggota': ['UMKM137', 'UMKM147', 'UMKM157']}\n",
            "{'barang': 'Kopi Bubuk', 'lokasi': 'Bandung', 'vendorId': 'V007', 'diskonTier': {'min': 120, 'disc': 0.12}, 'total_jumlah': np.int64(346), 'deadline_tercepat': '2026-01-15', 'deadline_terlama': '2026-01-25', 'anggota': ['UMKM167', 'UMKM177']}\n",
            "{'barang': 'Kopi Bubuk', 'lokasi': 'Bandung', 'vendorId': 'V007', 'diskonTier': {'min': 120, 'disc': 0.12}, 'total_jumlah': np.int64(386), 'deadline_tercepat': '2026-02-04', 'deadline_terlama': '2026-02-14', 'anggota': ['UMKM187', 'UMKM197']}\n",
            "{'barang': 'Gelas Plastik', 'lokasi': 'Surabaya', 'vendorId': 'V008', 'diskonTier': {'min': 0, 'disc': 0.0}, 'total_jumlah': np.int64(500), 'deadline_tercepat': '2025-08-09', 'deadline_terlama': '2025-09-18', 'anggota': ['UMKM008', 'UMKM018', 'UMKM028', 'UMKM038', 'UMKM048']}\n",
            "{'barang': 'Gelas Plastik', 'lokasi': 'Surabaya', 'vendorId': 'V008', 'diskonTier': {'min': 5000, 'disc': 0.13}, 'total_jumlah': np.int64(7651), 'deadline_tercepat': '2025-08-10', 'deadline_terlama': '2026-02-17', 'anggota': ['UMKM058', 'UMKM068', 'UMKM078', 'UMKM088', 'UMKM098', 'UMKM108', 'UMKM118', 'UMKM128', 'UMKM138', 'UMKM148', 'UMKM158', 'UMKM168', 'UMKM178', 'UMKM188', 'UMKM198', 'UMKM009', 'UMKM019', 'UMKM029', 'UMKM039', 'UMKM049', 'UMKM059', 'UMKM069', 'UMKM079', 'UMKM089', 'UMKM099', 'UMKM109', 'UMKM119', 'UMKM129', 'UMKM139', 'UMKM149', 'UMKM159', 'UMKM169', 'UMKM179', 'UMKM189', 'UMKM199', 'UMKM010', 'UMKM020', 'UMKM030', 'UMKM040', 'UMKM050', 'UMKM060', 'UMKM070', 'UMKM080', 'UMKM090', 'UMKM100', 'UMKM110', 'UMKM120', 'UMKM130', 'UMKM140', 'UMKM150', 'UMKM160', 'UMKM170', 'UMKM180', 'UMKM190', 'UMKM200']}\n"
          ]
        }
      ],
      "source": [
        "import pandas as pd\n",
        "import json\n",
        "from datetime import datetime, timedelta\n",
        "from itertools import combinations\n",
        "\n",
        "# --- Konfigurasi constraint ---\n",
        "TIME_TOLERANCE_DAYS = 3  # toleransi waktu kebutuhan\n",
        "\n",
        "# --- Load dataset ---\n",
        "needs = pd.read_csv('/content/needs_dummy.csv')\n",
        "vendors = pd.read_csv('/content/vendors_dummy.csv')\n",
        "\n",
        "# Parse kolom diskonTier menjadi list\n",
        "vendors['diskonTier'] = vendors['diskonTier'].apply(lambda x: json.loads(x.replace(\"'\", '\"')))\n",
        "\n",
        "# --- Utility functions ---\n",
        "def parse_date(s):\n",
        "    return datetime.strptime(str(s), '%Y-%m-%d')\n",
        "\n",
        "def group_candidates(needs):\n",
        "    \"\"\"Group kebutuhan berdasarkan barang, lokasi, dan waktu (toleransi)\"\"\"\n",
        "    needs = needs.copy()\n",
        "    needs['waktuButuh'] = needs['waktuButuh'].apply(parse_date)\n",
        "    groups = []\n",
        "    grouped = set()\n",
        "    for barang in needs['namaBarang'].unique():\n",
        "        for lokasi in needs['lokasi'].unique():\n",
        "            subset = needs[(needs['namaBarang'] == barang) & (needs['lokasi'] == lokasi)]\n",
        "            subset = subset.sort_values('waktuButuh')\n",
        "            n = len(subset)\n",
        "            idx = 0\n",
        "            while idx < n:\n",
        "                base_time = subset.iloc[idx]['waktuButuh']\n",
        "                group = subset[(subset['waktuButuh'] >= base_time) & (subset['waktuButuh'] <= base_time + timedelta(days=TIME_TOLERANCE_DAYS))]\n",
        "                group_ids = tuple(group.index)\n",
        "                if group_ids and not set(group_ids).issubset(grouped):\n",
        "                    groups.append(group)\n",
        "                    grouped.update(group_ids)\n",
        "                idx += len(group)\n",
        "    return groups\n",
        "\n",
        "def get_vendor_candidates(barang, lokasi):\n",
        "    # Untuk PoC: vendor yang jual barang tsb, lokasi vendor = lokasi needs\n",
        "    return vendors[(vendors['namaBarang'] == barang) & (vendors['lokasiVendor'] == lokasi)]\n",
        "\n",
        "def get_best_tier(diskonTier, total):\n",
        "    best = {'min': 0, 'disc': 0.0}\n",
        "    for tier in diskonTier:\n",
        "        if total >= tier['min'] and tier['disc'] > best['disc']:\n",
        "            best = tier\n",
        "    return best\n",
        "\n",
        "def batch_cost(batch, vendor):\n",
        "    total = batch['jumlah'].sum()\n",
        "    hargaDasar = vendor['hargaDasar']\n",
        "    diskonTier = vendor['diskonTier']\n",
        "    tier = get_best_tier(diskonTier, total)\n",
        "    cost = total * hargaDasar * (1 - tier['disc'])\n",
        "    return cost, tier\n",
        "\n",
        "# --- Main DP Algorithm ---\n",
        "def dp_group_procurement():\n",
        "    groups = group_candidates(needs)\n",
        "    n = len(groups)\n",
        "    DP = [float('inf')] * (n + 1)\n",
        "    DP[0] = 0\n",
        "    parent = [-1] * (n + 1)\n",
        "    vendor_choice = [None] * (n + 1)\n",
        "    for i in range(1, n + 1):\n",
        "        for j in range(0, i):\n",
        "            batch = pd.concat(groups[j:i])\n",
        "            barang = batch.iloc[0]['namaBarang']\n",
        "            lokasi = batch.iloc[0]['lokasi']\n",
        "            vendor_cands = get_vendor_candidates(barang, lokasi)\n",
        "            for _, v in vendor_cands.iterrows():\n",
        "                if batch['jumlah'].sum() >= v['MOQ'] and batch['jumlah'].sum() <= v['kapasitas']:\n",
        "                    cost, tier = batch_cost(batch, v)\n",
        "                    if DP[j] + cost < DP[i]:\n",
        "                        DP[i] = DP[j] + cost\n",
        "                        parent[i] = j\n",
        "                        vendor_choice[i] = (v['vendorId'], tier)\n",
        "    # Trackback\n",
        "    idx = n\n",
        "    result = []\n",
        "    while idx > 0:\n",
        "        prev = parent[idx]\n",
        "        if prev == -1:\n",
        "            break\n",
        "        batch = pd.concat(groups[prev:idx])\n",
        "        barang = batch.iloc[0]['namaBarang']\n",
        "        lokasi = batch.iloc[0]['lokasi']\n",
        "        v_id, tier = vendor_choice[idx]\n",
        "        result.append({\n",
        "            'barang': barang,\n",
        "            'lokasi': lokasi,\n",
        "            'vendorId': v_id,\n",
        "            'diskonTier': tier,\n",
        "            'total_jumlah': batch['jumlah'].sum(),\n",
        "            'deadline_tercepat': batch['waktuButuh'].min().strftime('%Y-%m-%d'),\n",
        "            'deadline_terlama': batch['waktuButuh'].max().strftime('%Y-%m-%d'),\n",
        "            'anggota': batch['userId'].tolist(),\n",
        "        })\n",
        "        idx = prev\n",
        "    result.reverse()\n",
        "    print('Total biaya minimum:', DP[n])\n",
        "    print('Batch/group optimal:')\n",
        "    for r in result:\n",
        "        print(r)\n",
        "    return DP[n], result\n",
        "\n",
        "if __name__ == '__main__':\n",
        "    dp_group_procurement()\n"
      ]
    }
  ]
}